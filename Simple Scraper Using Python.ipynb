{
 "cells": [
  {
   "cell_type": "markdown",
   "metadata": {},
   "source": [
    "# Amazon product Scraper using Beautifulsoup"
   ]
  },
  {
   "cell_type": "code",
   "execution_count": 1,
   "metadata": {},
   "outputs": [],
   "source": [
    "import requests\n",
    "from bs4 import BeautifulSoup\n",
    "#for database we will use sqlite3 library\n",
    "import sqlite3"
   ]
  },
  {
   "cell_type": "markdown",
   "metadata": {},
   "source": [
    "<h3>We need this user agent to bypass restrictions of amazon to scrape the products</h3>"
   ]
  },
  {
   "cell_type": "code",
   "execution_count": 2,
   "metadata": {
    "pycharm": {
     "name": "#%%\n"
    }
   },
   "outputs": [],
   "source": [
    "headers = { \"user-Agent\": 'Mozilla/5.0 (Macintosh; Intel Mac OS X 10_15_5) AppleWebKit/537.36 (KHTML, like Gecko) Chrome/83.0.4103.116 Safari/537.36'}"
   ]
  },
  {
   "cell_type": "code",
   "execution_count": 3,
   "metadata": {},
   "outputs": [],
   "source": [
    "#Here we will add the url of the product that we want to parse"
   ]
  },
  {
   "cell_type": "code",
   "execution_count": 4,
   "metadata": {},
   "outputs": [],
   "source": [
    "url = 'https://www.amazon.de/-/en/Fossil-FS4656IE-Chronograph-Quartz-Leather/dp/B07TCQRRWR/'"
   ]
  },
  {
   "cell_type": "code",
   "execution_count": 5,
   "metadata": {},
   "outputs": [],
   "source": [
    "page = requests.get(url, headers=headers)"
   ]
  },
  {
   "cell_type": "code",
   "execution_count": 6,
   "metadata": {},
   "outputs": [
    {
     "data": {
      "text/plain": [
       "<Response [200]>"
      ]
     },
     "execution_count": 6,
     "metadata": {},
     "output_type": "execute_result"
    }
   ],
   "source": [
    "page"
   ]
  },
  {
   "cell_type": "code",
   "execution_count": 7,
   "metadata": {},
   "outputs": [],
   "source": [
    "#If we want to see the page content we need to use .content"
   ]
  },
  {
   "cell_type": "code",
   "execution_count": 8,
   "metadata": {},
   "outputs": [],
   "source": [
    "#page.content"
   ]
  },
  {
   "cell_type": "code",
   "execution_count": 9,
   "metadata": {},
   "outputs": [],
   "source": [
    "soup = BeautifulSoup(page.content, features=\"lxml\")"
   ]
  },
  {
   "cell_type": "code",
   "execution_count": 10,
   "metadata": {},
   "outputs": [],
   "source": [
    "#It will beautify the content\n",
    "#print(soup.prettify)"
   ]
  },
  {
   "cell_type": "code",
   "execution_count": 11,
   "metadata": {},
   "outputs": [],
   "source": [
    "#Here we parse the name of product and by using the strip() function we can get rid of extra html code or spaces"
   ]
  },
  {
   "cell_type": "code",
   "execution_count": 12,
   "metadata": {},
   "outputs": [
    {
     "data": {
      "text/plain": [
       "\"Fossil FS4656IE Men's Chronograph Quartz Watch with Leather Strap\""
      ]
     },
     "execution_count": 12,
     "metadata": {},
     "output_type": "execute_result"
    }
   ],
   "source": [
    "product_name = soup.find(id='productTitle').get_text().strip()\n",
    "product_name"
   ]
  },
  {
   "cell_type": "code",
   "execution_count": 13,
   "metadata": {},
   "outputs": [],
   "source": [
    "#Here we parse the product ASIN and it's little tricky"
   ]
  },
  {
   "cell_type": "code",
   "execution_count": 14,
   "metadata": {},
   "outputs": [
    {
     "name": "stdout",
     "output_type": "stream",
     "text": [
      "ASIN:  B07TCQRRWR\n"
     ]
    }
   ],
   "source": [
    "product_asin = soup.select_one(\"li:nth-child(5) .a-text-bold+ span\").get_text().strip()\n",
    "print('ASIN: ',product_asin)"
   ]
  },
  {
   "cell_type": "code",
   "execution_count": 15,
   "metadata": {},
   "outputs": [],
   "source": [
    "#For the timestamp we have different ways 1). we can use system date and time using python other we can use database date and time function"
   ]
  },
  {
   "cell_type": "code",
   "execution_count": 16,
   "metadata": {
    "pycharm": {
     "name": "#%%\n"
    }
   },
   "outputs": [
    {
     "name": "stdout",
     "output_type": "stream",
     "text": [
      "2021 / 2 / 18\n",
      "22 : 36 : 29\n"
     ]
    }
   ],
   "source": [
    "from datetime import datetime\n",
    "dateTimeObj = datetime.now()\n",
    "print(dateTimeObj.year, '/', dateTimeObj.month, '/', dateTimeObj.day)\n",
    "print(dateTimeObj.hour, ':', dateTimeObj.minute, ':', dateTimeObj.second)\n",
    "\n",
    "\n",
    "\n"
   ]
  },
  {
   "cell_type": "markdown",
   "metadata": {},
   "source": [
    "## Database\n",
    "### For this project we are using SQLite database "
   ]
  },
  {
   "cell_type": "code",
   "execution_count": 17,
   "metadata": {},
   "outputs": [],
   "source": [
    "\n",
    "# Create a SQL connection to our SQLite database\n",
    "con = sqlite3.connect('Amazon_db.sqlite')"
   ]
  },
  {
   "cell_type": "code",
   "execution_count": 18,
   "metadata": {},
   "outputs": [],
   "source": [
    "#Create the table and give the name of table attributes "
   ]
  },
  {
   "cell_type": "code",
   "execution_count": 19,
   "metadata": {},
   "outputs": [],
   "source": [
    "cur = con.cursor()\n",
    "cur.execute('CREATE TABLE if not exists amazon (product_name VARCHAR, product_asin VARCHAR, timestamp CHAR(100))')\n",
    "con.commit()"
   ]
  },
  {
   "cell_type": "code",
   "execution_count": 20,
   "metadata": {},
   "outputs": [],
   "source": [
    "#Here we will insert the data and print all data"
   ]
  },
  {
   "cell_type": "code",
   "execution_count": 21,
   "metadata": {},
   "outputs": [],
   "source": [
    "#For timestamp we are using DateTime() function of SQLite"
   ]
  },
  {
   "cell_type": "code",
   "execution_count": 22,
   "metadata": {},
   "outputs": [
    {
     "name": "stdout",
     "output_type": "stream",
     "text": [
      "(\"Fossil FS4656IE Men's Chronograph Quartz Watch with Leather Strap\", 'B07TCQRRWR', '2021-02-18 22:01:40')\n",
      "(\"Fossil FS4656IE Men's Chronograph Quartz Watch with Leather Strap\", 'B07TCQRRWR', '2021-02-18 22:02:40')\n",
      "(\"Fossil FS4656IE Men's Chronograph Quartz Watch with Leather Strap\", 'B07TCQRRWR', '2021-02-18 22:04:38')\n",
      "(\"Fossil FS4656IE Men's Chronograph Quartz Watch with Leather Strap\", 'B07TCQRRWR', '2021-02-18 22:05:40')\n",
      "(\"Fossil FS4656IE Men's Chronograph Quartz Watch with Leather Strap\", 'B07TCQRRWR', '2021-02-18 22:36:29')\n"
     ]
    }
   ],
   "source": [
    "\n",
    "con.execute(\"INSERT INTO amazon(product_name, product_asin, timestamp) values (?, ?,  DateTime('now', 'localtime'))\", (product_name, product_asin))\n",
    "con.commit()\n",
    "cur = con.cursor()\n",
    "cur.execute(\"SELECT * FROM amazon\")\n",
    "rows = cur.fetchall()\n",
    "for row in rows:\n",
    "    print(row)\n",
    "#con.close()"
   ]
  },
  {
   "cell_type": "code",
   "execution_count": 23,
   "metadata": {},
   "outputs": [],
   "source": [
    "#If you want to delete record you can use this query\n",
    "\n",
    "#cur.execute(\"DELETE FROM amazon WHERE product_asin='GARMIN'\")"
   ]
  },
  {
   "cell_type": "code",
   "execution_count": 24,
   "metadata": {},
   "outputs": [],
   "source": [
    "#We can print the selected data by using this query"
   ]
  },
  {
   "cell_type": "code",
   "execution_count": 25,
   "metadata": {},
   "outputs": [
    {
     "name": "stdout",
     "output_type": "stream",
     "text": [
      "(\"Fossil FS4656IE Men's Chronograph Quartz Watch with Leather Strap\", '2021-02-18 22:01:40')\n",
      "(\"Fossil FS4656IE Men's Chronograph Quartz Watch with Leather Strap\", '2021-02-18 22:02:40')\n",
      "(\"Fossil FS4656IE Men's Chronograph Quartz Watch with Leather Strap\", '2021-02-18 22:04:38')\n",
      "(\"Fossil FS4656IE Men's Chronograph Quartz Watch with Leather Strap\", '2021-02-18 22:05:40')\n",
      "(\"Fossil FS4656IE Men's Chronograph Quartz Watch with Leather Strap\", '2021-02-18 22:36:29')\n"
     ]
    }
   ],
   "source": [
    "con = sqlite3.connect('Amazon_db.sqlite')\n",
    "cur = con.cursor()\n",
    "cur.execute(\"SELECT product_name, timestamp FROM amazon WHERE product_asin='B07TCQRRWR'\")\n",
    "rows = cur.fetchall()\n",
    "for row in rows:\n",
    "    print(row)\n",
    "con.close()"
   ]
  },
  {
   "cell_type": "code",
   "execution_count": null,
   "metadata": {},
   "outputs": [],
   "source": []
  }
 ],
 "metadata": {
  "kernelspec": {
   "display_name": "Python 3",
   "language": "python",
   "name": "python3"
  },
  "language_info": {
   "codemirror_mode": {
    "name": "ipython",
    "version": 3
   },
   "file_extension": ".py",
   "mimetype": "text/x-python",
   "name": "python",
   "nbconvert_exporter": "python",
   "pygments_lexer": "ipython3",
   "version": "3.8.5"
  }
 },
 "nbformat": 4,
 "nbformat_minor": 1
}